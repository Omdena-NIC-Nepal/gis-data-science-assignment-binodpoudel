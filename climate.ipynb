{
 "cells": [
  {
   "cell_type": "code",
   "execution_count": null,
   "metadata": {},
   "outputs": [],
   "source": [
    "import os\n",
    "import geopandas as gpd\n",
    "import rasterio\n",
    "import numpy as np\n",
    "import matplotlib.pyplot as plt\n",
    "import seaborn as sns\n",
    "import pandas as pd"
   ]
  },
  {
   "cell_type": "code",
   "execution_count": null,
   "metadata": {},
   "outputs": [],
   "source": [
    "import geopandas as gpd\n",
    "print(\"GeoPandas imported successfully!\")\n",
    "\n",
    "import rasterio\n",
    "print(\"Rasterio imported successfully!\")\n",
    "\n",
    "import numpy as np\n",
    "print(\"NumPy imported successfully!\")\n",
    "\n",
    "import matplotlib.pyplot as plt\n",
    "print(\"Matplotlib imported successfully!\")\n",
    "\n",
    "import seaborn as sns\n",
    "print(\"Seaborn imported successfully!\")\n",
    "\n",
    "import pandas as pd\n",
    "print(\"Pandas imported successfully!\")"
   ]
  },
  {
   "cell_type": "code",
   "execution_count": null,
   "metadata": {},
   "outputs": [],
   "source": [
    "import os\n",
    "\n",
    "# Set the correct relative path to the data folder\n",
    "data_dir = os.path.join(os.getcwd(), \"data\")  # Ensure full path is used\n",
    "\n",
    "# Define file paths for each dataset\n",
    "admin_regions_fp = os.path.join(data_dir, \"nepal_admin_regions.gpkg\")\n",
    "glaciers_fp = os.path.join(data_dir, \"nepal_glaciers.gpkg\")\n",
    "rivers_fp = os.path.join(data_dir, \"nepal_rivers.gpkg\")\n",
    "temp_2020_fp = os.path.join(data_dir, \"nepal_temperature_2020.tif\")\n",
    "temp_2050_fp = os.path.join(data_dir, \"nepal_temperature_2050.tif\")\n",
    "precip_2020_fp = os.path.join(data_dir, \"nepal_precipitation_2020.tif\")\n",
    "precip_2050_fp = os.path.join(data_dir, \"nepal_precipitation_2050.tif\")"
   ]
  },
  {
   "cell_type": "code",
   "execution_count": null,
   "metadata": {},
   "outputs": [],
   "source": [
    "# Print file paths to verify correctness\n",
    "print(\"Admin Regions Path:\", admin_regions_fp)\n",
    "print(\"Glaciers Path:\", glaciers_fp)\n",
    "print(\"Rivers Path:\", rivers_fp)\n",
    "print(\"Temperature 2020 Path:\", temp_2020_fp)\n",
    "print(\"Temperature 2050 Path:\", temp_2050_fp)\n",
    "print(\"Precipitation 2020 Path:\", precip_2020_fp)\n",
    "print(\"Precipitation 2050 Path:\", precip_2050_fp)"
   ]
  },
  {
   "cell_type": "code",
   "execution_count": null,
   "metadata": {},
   "outputs": [],
   "source": [
    "# Load vector data\n",
    "admin_regions = gpd.read_file(admin_regions_fp)\n",
    "glaciers = gpd.read_file(glaciers_fp)\n",
    "rivers = gpd.read_file(rivers_fp)"
   ]
  },
  {
   "cell_type": "code",
   "execution_count": null,
   "metadata": {},
   "outputs": [],
   "source": [
    "# Load raster data\n",
    "def load_raster(filepath):\n",
    "    with rasterio.open(filepath) as src:\n",
    "        return src.read(1), src.meta"
   ]
  },
  {
   "cell_type": "code",
   "execution_count": null,
   "metadata": {},
   "outputs": [],
   "source": [
    "# Load temperature and precipitation rasters\n",
    "temp_2020, temp_meta = load_raster(temp_2020_fp)\n",
    "temp_2050, _ = load_raster(temp_2050_fp)\n",
    "precip_2020, _ = load_raster(precip_2020_fp)\n",
    "precip_2050, _ = load_raster(precip_2050_fp)"
   ]
  },
  {
   "cell_type": "code",
   "execution_count": null,
   "metadata": {},
   "outputs": [],
   "source": [
    "# Compute temperature change\n",
    "temp_diff = temp_2050 - temp_2020\n",
    "\n",
    "# Compute precipitation change\n",
    "precip_diff = precip_2050 - precip_2020"
   ]
  },
  {
   "cell_type": "code",
   "execution_count": null,
   "metadata": {},
   "outputs": [],
   "source": [
    "# Plot Nepal Map with Admin Boundaries, Rivers, and Glaciers\n",
    "fig, ax = plt.subplots(figsize=(10, 6))\n",
    "admin_regions.plot(ax=ax, color='none', edgecolor='black')\n",
    "rivers.plot(ax=ax, color='blue', linewidth=0.5)\n",
    "glaciers.plot(ax=ax, color='cyan', alpha=0.6)\n",
    "plt.title(\"Nepal's Administrative Boundaries, Rivers, and Glaciers\")\n",
    "plt.show()"
   ]
  },
  {
   "cell_type": "code",
   "execution_count": null,
   "metadata": {},
   "outputs": [],
   "source": [
    "# Plot Temperature Difference\n",
    "plt.figure(figsize=(10, 6))\n",
    "plt.imshow(temp_diff, cmap=\"coolwarm\")\n",
    "plt.colorbar(label=\"Temperature Change (°C)\")\n",
    "plt.title(\"Projected Temperature Change (2020-2050)\")\n",
    "plt.show()"
   ]
  },
  {
   "cell_type": "code",
   "execution_count": null,
   "metadata": {},
   "outputs": [],
   "source": [
    "# Plot Precipitation Difference\n",
    "plt.figure(figsize=(10, 6))\n",
    "plt.imshow(precip_diff, cmap=\"BrBG\")\n",
    "plt.colorbar(label=\"Precipitation Change (mm)\")\n",
    "plt.title(\"Projected Precipitation Change (2020-2050)\")\n",
    "plt.show()"
   ]
  },
  {
   "cell_type": "code",
   "execution_count": null,
   "metadata": {},
   "outputs": [],
   "source": [
    "# Compute statistics\n",
    "stats = {\n",
    "    \"Temperature 2020\": [np.nanmin(temp_2020), np.nanmax(temp_2020), np.nanmean(temp_2020), np.nanmedian(temp_2020)],\n",
    "    \"Temperature 2050\": [np.nanmin(temp_2050), np.nanmax(temp_2050), np.nanmean(temp_2050), np.nanmedian(temp_2050)],\n",
    "    \"Temperature Change\": [np.nanmin(temp_diff), np.nanmax(temp_diff), np.nanmean(temp_diff), np.nanmedian(temp_diff)],\n",
    "    \"Precipitation 2020\": [np.nanmin(precip_2020), np.nanmax(precip_2020), np.nanmean(precip_2020), np.nanmedian(precip_2020)],\n",
    "    \"Precipitation 2050\": [np.nanmin(precip_2050), np.nanmax(precip_2050), np.nanmean(precip_2050), np.nanmedian(precip_2050)],\n",
    "    \"Precipitation Change\": [np.nanmin(precip_diff), np.nanmax(precip_diff), np.nanmean(precip_diff), np.nanmedian(precip_diff)]\n",
    "}\n",
    "stats_df = pd.DataFrame(stats, index=[\"Min\", \"Max\", \"Mean\", \"Median\"])\n",
    "print(stats_df)"
   ]
  }
 ],
 "metadata": {
  "language_info": {
   "name": "python"
  },
  "orig_nbformat": 4
 },
 "nbformat": 4,
 "nbformat_minor": 2
}
